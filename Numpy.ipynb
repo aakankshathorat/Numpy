{
 "cells": [
  {
   "cell_type": "code",
   "execution_count": 1,
   "id": "247e605e",
   "metadata": {},
   "outputs": [],
   "source": [
    "l = [1,2,3,4,5,6]*2"
   ]
  },
  {
   "cell_type": "code",
   "execution_count": 2,
   "id": "2220f167",
   "metadata": {},
   "outputs": [
    {
     "data": {
      "text/plain": [
       "[1, 2, 3, 4, 5, 6, 1, 2, 3, 4, 5, 6]"
      ]
     },
     "execution_count": 2,
     "metadata": {},
     "output_type": "execute_result"
    }
   ],
   "source": [
    "l"
   ]
  },
  {
   "cell_type": "code",
   "execution_count": 3,
   "id": "5139d3cc",
   "metadata": {
    "scrolled": true
   },
   "outputs": [
    {
     "name": "stdout",
     "output_type": "stream",
     "text": [
      "Requirement already satisfied: numpy in c:\\users\\hp\\anaconda3\\lib\\site-packages (1.22.4)\n"
     ]
    }
   ],
   "source": [
    "!pip install numpy"
   ]
  },
  {
   "cell_type": "code",
   "execution_count": 4,
   "id": "112aa980",
   "metadata": {},
   "outputs": [],
   "source": [
    "import numpy as np"
   ]
  },
  {
   "cell_type": "raw",
   "id": "e5528c51",
   "metadata": {},
   "source": [
    "array mean we give the only specific data like integer,string ,float,tuple"
   ]
  },
  {
   "cell_type": "code",
   "execution_count": 6,
   "id": "7aafc70b",
   "metadata": {},
   "outputs": [],
   "source": [
    "l = [1,2,3,4,5,6,7,8,9,10]"
   ]
  },
  {
   "cell_type": "code",
   "execution_count": 7,
   "id": "cb444db2",
   "metadata": {},
   "outputs": [
    {
     "data": {
      "text/plain": [
       "[1, 2, 3, 4, 5, 6, 7, 8, 9, 10]"
      ]
     },
     "execution_count": 7,
     "metadata": {},
     "output_type": "execute_result"
    }
   ],
   "source": [
    "l"
   ]
  },
  {
   "cell_type": "code",
   "execution_count": 8,
   "id": "7b04ee29",
   "metadata": {},
   "outputs": [],
   "source": [
    "a = np.array(l)"
   ]
  },
  {
   "cell_type": "markdown",
   "id": "7ea2b0f8",
   "metadata": {},
   "source": [
    "convert list into array"
   ]
  },
  {
   "cell_type": "code",
   "execution_count": 9,
   "id": "12d7b5b7",
   "metadata": {
    "scrolled": true
   },
   "outputs": [
    {
     "data": {
      "text/plain": [
       "array([ 1,  2,  3,  4,  5,  6,  7,  8,  9, 10])"
      ]
     },
     "execution_count": 9,
     "metadata": {},
     "output_type": "execute_result"
    }
   ],
   "source": [
    "a"
   ]
  },
  {
   "cell_type": "code",
   "execution_count": 10,
   "id": "381e9170",
   "metadata": {},
   "outputs": [
    {
     "data": {
      "text/plain": [
       "numpy.ndarray"
      ]
     },
     "execution_count": 10,
     "metadata": {},
     "output_type": "execute_result"
    }
   ],
   "source": [
    "type(a)           "
   ]
  },
  {
   "cell_type": "raw",
   "id": "4fdac52e",
   "metadata": {},
   "source": [
    "one dim array"
   ]
  },
  {
   "cell_type": "code",
   "execution_count": 11,
   "id": "22296a95",
   "metadata": {},
   "outputs": [
    {
     "data": {
      "text/plain": [
       "1"
      ]
     },
     "execution_count": 11,
     "metadata": {},
     "output_type": "execute_result"
    }
   ],
   "source": [
    "a.ndim"
   ]
  },
  {
   "cell_type": "code",
   "execution_count": 12,
   "id": "0096c543",
   "metadata": {},
   "outputs": [
    {
     "ename": "SyntaxError",
     "evalue": "invalid syntax (2717850937.py, line 1)",
     "output_type": "error",
     "traceback": [
      "\u001b[1;36m  Input \u001b[1;32mIn [12]\u001b[1;36m\u001b[0m\n\u001b[1;33m    whan we check the shape of array then we get the ouput in tuple\u001b[0m\n\u001b[1;37m         ^\u001b[0m\n\u001b[1;31mSyntaxError\u001b[0m\u001b[1;31m:\u001b[0m invalid syntax\n"
     ]
    }
   ],
   "source": [
    "whan we check the shape of array then we get the ouput in tuple"
   ]
  },
  {
   "cell_type": "code",
   "execution_count": null,
   "id": "b1f14259",
   "metadata": {},
   "outputs": [],
   "source": [
    "a.shape            "
   ]
  },
  {
   "cell_type": "code",
   "execution_count": null,
   "id": "443ff194",
   "metadata": {},
   "outputs": [],
   "source": [
    "a1 = np.array([[1,2,3],\n",
    "               [4,5,6]])"
   ]
  },
  {
   "cell_type": "markdown",
   "id": "087c9b1e",
   "metadata": {},
   "source": [
    " two rows dim"
   ]
  },
  {
   "cell_type": "code",
   "execution_count": null,
   "id": "8b2e05a6",
   "metadata": {},
   "outputs": [],
   "source": [
    "a1.ndim                     "
   ]
  },
  {
   "cell_type": "code",
   "execution_count": null,
   "id": "12db12c3",
   "metadata": {},
   "outputs": [],
   "source": [
    "it def as two row and three coloum"
   ]
  },
  {
   "cell_type": "code",
   "execution_count": null,
   "id": "d3afe853",
   "metadata": {},
   "outputs": [],
   "source": [
    " a1.shape              "
   ]
  },
  {
   "cell_type": "code",
   "execution_count": null,
   "id": "d29d5f45",
   "metadata": {},
   "outputs": [],
   "source": [
    "l = []    "
   ]
  },
  {
   "cell_type": "code",
   "execution_count": null,
   "id": "98f0d837",
   "metadata": {},
   "outputs": [],
   "source": [
    "addition -[0,0,0]\n",
    "multiplication - [1,1,1]"
   ]
  },
  {
   "cell_type": "code",
   "execution_count": null,
   "id": "ef1a9c1f",
   "metadata": {},
   "outputs": [],
   "source": [
    "a = np.ones(5)\n"
   ]
  },
  {
   "cell_type": "code",
   "execution_count": null,
   "id": "9e9cd809",
   "metadata": {},
   "outputs": [],
   "source": [
    "a"
   ]
  },
  {
   "cell_type": "code",
   "execution_count": null,
   "id": "73180c4d",
   "metadata": {},
   "outputs": [],
   "source": [
    "a.dtype"
   ]
  },
  {
   "cell_type": "code",
   "execution_count": null,
   "id": "d4a27aff",
   "metadata": {},
   "outputs": [],
   "source": [
    "b = np.zeros(5)"
   ]
  },
  {
   "cell_type": "code",
   "execution_count": null,
   "id": "4ae56efd",
   "metadata": {},
   "outputs": [],
   "source": [
    "b"
   ]
  },
  {
   "cell_type": "code",
   "execution_count": null,
   "id": "ac1c957f",
   "metadata": {},
   "outputs": [],
   "source": [
    "a = np.ones(5,dtype = int)"
   ]
  },
  {
   "cell_type": "code",
   "execution_count": null,
   "id": "deccf9ee",
   "metadata": {},
   "outputs": [],
   "source": [
    "a"
   ]
  },
  {
   "cell_type": "code",
   "execution_count": null,
   "id": "97be3479",
   "metadata": {},
   "outputs": [],
   "source": [
    "a.dtype"
   ]
  },
  {
   "cell_type": "code",
   "execution_count": null,
   "id": "b73c7a78",
   "metadata": {},
   "outputs": [],
   "source": [
    "two dimension array create than"
   ]
  },
  {
   "cell_type": "code",
   "execution_count": null,
   "id": "0f3b1105",
   "metadata": {},
   "outputs": [],
   "source": [
    "a = np.ones((2,3))"
   ]
  },
  {
   "cell_type": "code",
   "execution_count": null,
   "id": "b020e4d1",
   "metadata": {},
   "outputs": [],
   "source": [
    "a"
   ]
  },
  {
   "cell_type": "code",
   "execution_count": null,
   "id": "55a1e15b",
   "metadata": {},
   "outputs": [],
   "source": [
    "a = np.ones((2,3),dtype = int)"
   ]
  },
  {
   "cell_type": "code",
   "execution_count": null,
   "id": "8a89945a",
   "metadata": {},
   "outputs": [],
   "source": [
    "a"
   ]
  },
  {
   "cell_type": "raw",
   "id": "4a567f9a",
   "metadata": {},
   "source": [
    "3d array"
   ]
  },
  {
   "cell_type": "code",
   "execution_count": null,
   "id": "df0b71e1",
   "metadata": {},
   "outputs": [],
   "source": [
    "a = np.ones((2,3,4),dtype = int)       "
   ]
  },
  {
   "cell_type": "code",
   "execution_count": null,
   "id": "208f4ba8",
   "metadata": {},
   "outputs": [],
   "source": [
    "a"
   ]
  },
  {
   "cell_type": "code",
   "execution_count": 13,
   "id": "90d1b7d5",
   "metadata": {},
   "outputs": [],
   "source": [
    "a = np.ones((3,4,5),dtype = int)"
   ]
  },
  {
   "cell_type": "code",
   "execution_count": 14,
   "id": "d86dee33",
   "metadata": {},
   "outputs": [
    {
     "data": {
      "text/plain": [
       "array([[[1, 1, 1, 1, 1],\n",
       "        [1, 1, 1, 1, 1],\n",
       "        [1, 1, 1, 1, 1],\n",
       "        [1, 1, 1, 1, 1]],\n",
       "\n",
       "       [[1, 1, 1, 1, 1],\n",
       "        [1, 1, 1, 1, 1],\n",
       "        [1, 1, 1, 1, 1],\n",
       "        [1, 1, 1, 1, 1]],\n",
       "\n",
       "       [[1, 1, 1, 1, 1],\n",
       "        [1, 1, 1, 1, 1],\n",
       "        [1, 1, 1, 1, 1],\n",
       "        [1, 1, 1, 1, 1]]])"
      ]
     },
     "execution_count": 14,
     "metadata": {},
     "output_type": "execute_result"
    }
   ],
   "source": [
    "a"
   ]
  },
  {
   "cell_type": "code",
   "execution_count": 15,
   "id": "809440ab",
   "metadata": {},
   "outputs": [],
   "source": [
    "a = np.ones(5)"
   ]
  },
  {
   "cell_type": "code",
   "execution_count": 16,
   "id": "39db48e6",
   "metadata": {},
   "outputs": [
    {
     "data": {
      "text/plain": [
       "array([1., 1., 1., 1., 1.])"
      ]
     },
     "execution_count": 16,
     "metadata": {},
     "output_type": "execute_result"
    }
   ],
   "source": [
    "a"
   ]
  },
  {
   "cell_type": "code",
   "execution_count": 17,
   "id": "9b45f62b",
   "metadata": {},
   "outputs": [],
   "source": [
    "a = np.ones(5,dtype = bool)"
   ]
  },
  {
   "cell_type": "code",
   "execution_count": 18,
   "id": "46e854ef",
   "metadata": {},
   "outputs": [
    {
     "data": {
      "text/plain": [
       "array([ True,  True,  True,  True,  True])"
      ]
     },
     "execution_count": 18,
     "metadata": {},
     "output_type": "execute_result"
    }
   ],
   "source": [
    "a"
   ]
  },
  {
   "cell_type": "code",
   "execution_count": 19,
   "id": "76d738ea",
   "metadata": {},
   "outputs": [],
   "source": [
    "a = np.zeros(5,dtype = bool)"
   ]
  },
  {
   "cell_type": "code",
   "execution_count": 20,
   "id": "5c87482a",
   "metadata": {},
   "outputs": [
    {
     "data": {
      "text/plain": [
       "array([False, False, False, False, False])"
      ]
     },
     "execution_count": 20,
     "metadata": {},
     "output_type": "execute_result"
    }
   ],
   "source": [
    "a"
   ]
  },
  {
   "cell_type": "code",
   "execution_count": 21,
   "id": "14aa582e",
   "metadata": {},
   "outputs": [],
   "source": [
    "a = np.array([1,2,3,4,5,6,7,8,9,10])"
   ]
  },
  {
   "cell_type": "code",
   "execution_count": 22,
   "id": "3d7b7b63",
   "metadata": {},
   "outputs": [
    {
     "data": {
      "text/plain": [
       "array([ 1,  2,  3,  4,  5,  6,  7,  8,  9, 10])"
      ]
     },
     "execution_count": 22,
     "metadata": {},
     "output_type": "execute_result"
    }
   ],
   "source": [
    "a"
   ]
  },
  {
   "cell_type": "raw",
   "id": "70b20b9e",
   "metadata": {},
   "source": [
    "help of arange we create the array"
   ]
  },
  {
   "cell_type": "code",
   "execution_count": 27,
   "id": "34098534",
   "metadata": {},
   "outputs": [
    {
     "data": {
      "text/plain": [
       "array([ 1,  2,  3,  4,  5,  6,  7,  8,  9, 10])"
      ]
     },
     "execution_count": 27,
     "metadata": {},
     "output_type": "execute_result"
    }
   ],
   "source": [
    "np.arange(1,11)"
   ]
  },
  {
   "cell_type": "code",
   "execution_count": 28,
   "id": "4a530c69",
   "metadata": {},
   "outputs": [
    {
     "data": {
      "text/plain": [
       "array([  1,   2,   3,   4,   5,   6,   7,   8,   9,  10,  11,  12,  13,\n",
       "        14,  15,  16,  17,  18,  19,  20,  21,  22,  23,  24,  25,  26,\n",
       "        27,  28,  29,  30,  31,  32,  33,  34,  35,  36,  37,  38,  39,\n",
       "        40,  41,  42,  43,  44,  45,  46,  47,  48,  49,  50,  51,  52,\n",
       "        53,  54,  55,  56,  57,  58,  59,  60,  61,  62,  63,  64,  65,\n",
       "        66,  67,  68,  69,  70,  71,  72,  73,  74,  75,  76,  77,  78,\n",
       "        79,  80,  81,  82,  83,  84,  85,  86,  87,  88,  89,  90,  91,\n",
       "        92,  93,  94,  95,  96,  97,  98,  99, 100, 101, 102, 103, 104,\n",
       "       105, 106, 107, 108, 109, 110, 111, 112, 113, 114, 115, 116, 117,\n",
       "       118, 119, 120, 121, 122, 123, 124, 125, 126, 127, 128, 129, 130,\n",
       "       131, 132, 133, 134, 135, 136, 137, 138, 139, 140, 141, 142, 143,\n",
       "       144, 145, 146, 147, 148, 149, 150, 151, 152, 153, 154, 155, 156,\n",
       "       157, 158, 159, 160, 161, 162, 163, 164, 165, 166, 167, 168, 169,\n",
       "       170, 171, 172, 173, 174, 175, 176, 177, 178, 179, 180, 181, 182,\n",
       "       183, 184, 185, 186, 187, 188, 189, 190, 191, 192, 193, 194, 195,\n",
       "       196, 197, 198, 199])"
      ]
     },
     "execution_count": 28,
     "metadata": {},
     "output_type": "execute_result"
    }
   ],
   "source": [
    "np.arange(1,200)"
   ]
  },
  {
   "cell_type": "code",
   "execution_count": 29,
   "id": "6a2169ed",
   "metadata": {},
   "outputs": [
    {
     "data": {
      "text/plain": [
       "array([ 3,  4,  5,  6,  7,  8,  9, 10, 11, 12, 13, 14])"
      ]
     },
     "execution_count": 29,
     "metadata": {},
     "output_type": "execute_result"
    }
   ],
   "source": [
    "np.arange(3,15)"
   ]
  },
  {
   "cell_type": "raw",
   "id": "f222fd18",
   "metadata": {},
   "source": [
    "here we did not get last elements"
   ]
  },
  {
   "cell_type": "code",
   "execution_count": 30,
   "id": "c6c35fea",
   "metadata": {},
   "outputs": [
    {
     "data": {
      "text/plain": [
       "array([ 12,  17,  22,  27,  32,  37,  42,  47,  52,  57,  62,  67,  72,\n",
       "        77,  82,  87,  92,  97, 102, 107, 112, 117, 122, 127, 132, 137,\n",
       "       142, 147, 152, 157, 162, 167, 172, 177, 182, 187, 192, 197])"
      ]
     },
     "execution_count": 30,
     "metadata": {},
     "output_type": "execute_result"
    }
   ],
   "source": [
    "np.arange(12,200,5)        "
   ]
  },
  {
   "cell_type": "raw",
   "id": "1480f5b6",
   "metadata": {},
   "source": [
    " it gives random sample 15 from one to ten  and output get in float  and we get last element"
   ]
  },
  {
   "cell_type": "code",
   "execution_count": 31,
   "id": "d728df97",
   "metadata": {},
   "outputs": [
    {
     "data": {
      "text/plain": [
       "array([ 1.        ,  1.64285714,  2.28571429,  2.92857143,  3.57142857,\n",
       "        4.21428571,  4.85714286,  5.5       ,  6.14285714,  6.78571429,\n",
       "        7.42857143,  8.07142857,  8.71428571,  9.35714286, 10.        ])"
      ]
     },
     "execution_count": 31,
     "metadata": {},
     "output_type": "execute_result"
    }
   ],
   "source": [
    "np.linspace(1,10,15)     "
   ]
  },
  {
   "cell_type": "code",
   "execution_count": 32,
   "id": "12cc1634",
   "metadata": {},
   "outputs": [
    {
     "data": {
      "text/plain": [
       "array([ 1,  2,  3,  4,  5,  6,  7,  8,  9, 10, 11, 12, 13, 14, 15])"
      ]
     },
     "execution_count": 32,
     "metadata": {},
     "output_type": "execute_result"
    }
   ],
   "source": [
    "np.arange(1,16)"
   ]
  },
  {
   "cell_type": "code",
   "execution_count": 33,
   "id": "b78094a2",
   "metadata": {},
   "outputs": [
    {
     "data": {
      "text/plain": [
       "10"
      ]
     },
     "execution_count": 33,
     "metadata": {},
     "output_type": "execute_result"
    }
   ],
   "source": [
    "len(a)"
   ]
  },
  {
   "cell_type": "code",
   "execution_count": 34,
   "id": "db2b7178",
   "metadata": {},
   "outputs": [
    {
     "data": {
      "text/plain": [
       "array([ 1,  2,  3,  4,  5,  6,  7,  8,  9, 10])"
      ]
     },
     "execution_count": 34,
     "metadata": {},
     "output_type": "execute_result"
    }
   ],
   "source": [
    "a"
   ]
  },
  {
   "cell_type": "code",
   "execution_count": 35,
   "id": "620f1ff9",
   "metadata": {},
   "outputs": [
    {
     "data": {
      "text/plain": [
       "array([[ 1,  2,  3,  4,  5],\n",
       "       [ 6,  7,  8,  9, 10]])"
      ]
     },
     "execution_count": 35,
     "metadata": {},
     "output_type": "execute_result"
    }
   ],
   "source": [
    "a.reshape(2,5)"
   ]
  },
  {
   "cell_type": "code",
   "execution_count": 36,
   "id": "48045dc3",
   "metadata": {},
   "outputs": [],
   "source": [
    "al = a.reshape(2,5)      "
   ]
  },
  {
   "cell_type": "code",
   "execution_count": 56,
   "id": "f5df8ba5",
   "metadata": {},
   "outputs": [
    {
     "data": {
      "text/plain": [
       "2"
      ]
     },
     "execution_count": 56,
     "metadata": {},
     "output_type": "execute_result"
    }
   ],
   "source": [
    "al.ndim"
   ]
  },
  {
   "cell_type": "raw",
   "id": "35ceb999",
   "metadata": {},
   "source": [
    "we get 10 row  and 1 columne"
   ]
  },
  {
   "cell_type": "code",
   "execution_count": 59,
   "id": "332a0565",
   "metadata": {},
   "outputs": [
    {
     "data": {
      "text/plain": [
       "array([[ 1],\n",
       "       [ 2],\n",
       "       [ 3],\n",
       "       [ 4],\n",
       "       [ 5],\n",
       "       [ 6],\n",
       "       [ 7],\n",
       "       [ 8],\n",
       "       [ 9],\n",
       "       [10]])"
      ]
     },
     "execution_count": 59,
     "metadata": {},
     "output_type": "execute_result"
    }
   ],
   "source": [
    "al.reshape(10,1)    "
   ]
  },
  {
   "cell_type": "code",
   "execution_count": 60,
   "id": "026d80da",
   "metadata": {},
   "outputs": [
    {
     "data": {
      "text/plain": [
       "array([[ 1,  2,  3,  4,  5,  6,  7,  8,  9, 10]])"
      ]
     },
     "execution_count": 60,
     "metadata": {},
     "output_type": "execute_result"
    }
   ],
   "source": [
    "al.reshape(1,10)"
   ]
  },
  {
   "cell_type": "code",
   "execution_count": 61,
   "id": "47524ee9",
   "metadata": {},
   "outputs": [],
   "source": [
    "b = np.arange(1,25).reshape(6,4)"
   ]
  },
  {
   "cell_type": "code",
   "execution_count": 62,
   "id": "f90327fe",
   "metadata": {},
   "outputs": [
    {
     "data": {
      "text/plain": [
       "array([[ 1,  2,  3,  4],\n",
       "       [ 5,  6,  7,  8],\n",
       "       [ 9, 10, 11, 12],\n",
       "       [13, 14, 15, 16],\n",
       "       [17, 18, 19, 20],\n",
       "       [21, 22, 23, 24]])"
      ]
     },
     "execution_count": 62,
     "metadata": {},
     "output_type": "execute_result"
    }
   ],
   "source": [
    "b"
   ]
  },
  {
   "cell_type": "code",
   "execution_count": 63,
   "id": "6ec20672",
   "metadata": {},
   "outputs": [],
   "source": [
    "b = np.arange(1,25).reshape(2,4,3)"
   ]
  },
  {
   "cell_type": "code",
   "execution_count": 64,
   "id": "c8171d70",
   "metadata": {},
   "outputs": [
    {
     "data": {
      "text/plain": [
       "array([[[ 1,  2,  3],\n",
       "        [ 4,  5,  6],\n",
       "        [ 7,  8,  9],\n",
       "        [10, 11, 12]],\n",
       "\n",
       "       [[13, 14, 15],\n",
       "        [16, 17, 18],\n",
       "        [19, 20, 21],\n",
       "        [22, 23, 24]]])"
      ]
     },
     "execution_count": 64,
     "metadata": {},
     "output_type": "execute_result"
    }
   ],
   "source": [
    "b"
   ]
  },
  {
   "cell_type": "code",
   "execution_count": 65,
   "id": "ea3465d4",
   "metadata": {},
   "outputs": [
    {
     "data": {
      "text/plain": [
       "3"
      ]
     },
     "execution_count": 65,
     "metadata": {},
     "output_type": "execute_result"
    }
   ],
   "source": [
    "b.ndim"
   ]
  },
  {
   "cell_type": "code",
   "execution_count": 66,
   "id": "ff1b4908",
   "metadata": {},
   "outputs": [
    {
     "data": {
      "text/plain": [
       "array([ 1,  2,  3,  4,  5,  6,  7,  8,  9, 10, 11, 12, 13, 14, 15, 16, 17,\n",
       "       18, 19, 20, 21, 22, 23, 24])"
      ]
     },
     "execution_count": 66,
     "metadata": {},
     "output_type": "execute_result"
    }
   ],
   "source": [
    "b.ravel()"
   ]
  },
  {
   "cell_type": "code",
   "execution_count": 67,
   "id": "f304462b",
   "metadata": {},
   "outputs": [
    {
     "data": {
      "text/plain": [
       "array([ 1,  2,  3,  4,  5,  6,  7,  8,  9, 10, 11, 12, 13, 14, 15, 16, 17,\n",
       "       18, 19, 20, 21, 22, 23, 24])"
      ]
     },
     "execution_count": 67,
     "metadata": {},
     "output_type": "execute_result"
    }
   ],
   "source": [
    "b.flatten()"
   ]
  },
  {
   "cell_type": "raw",
   "id": "554a1bd8",
   "metadata": {},
   "source": [
    "column according value"
   ]
  },
  {
   "cell_type": "code",
   "execution_count": 68,
   "id": "1d18c581",
   "metadata": {},
   "outputs": [
    {
     "data": {
      "text/plain": [
       "array([ 1, 13,  4, 16,  7, 19, 10, 22,  2, 14,  5, 17,  8, 20, 11, 23,  3,\n",
       "       15,  6, 18,  9, 21, 12, 24])"
      ]
     },
     "execution_count": 68,
     "metadata": {},
     "output_type": "execute_result"
    }
   ],
   "source": [
    "b.flatten(order = 'f')     "
   ]
  },
  {
   "cell_type": "code",
   "execution_count": 69,
   "id": "081c89af",
   "metadata": {},
   "outputs": [],
   "source": [
    "a = np.arange(1,17).reshape(4,4)"
   ]
  },
  {
   "cell_type": "code",
   "execution_count": 70,
   "id": "c286c026",
   "metadata": {},
   "outputs": [
    {
     "data": {
      "text/plain": [
       "array([[ 1,  2,  3,  4],\n",
       "       [ 5,  6,  7,  8],\n",
       "       [ 9, 10, 11, 12],\n",
       "       [13, 14, 15, 16]])"
      ]
     },
     "execution_count": 70,
     "metadata": {},
     "output_type": "execute_result"
    }
   ],
   "source": [
    "a"
   ]
  },
  {
   "cell_type": "raw",
   "id": "28d2d82d",
   "metadata": {},
   "source": [
    "convert into 2d or 1dim  and it row function"
   ]
  },
  {
   "cell_type": "code",
   "execution_count": 71,
   "id": "b2f49f6a",
   "metadata": {},
   "outputs": [
    {
     "data": {
      "text/plain": [
       "array([[ 1,  2,  3,  4,  5,  6,  7,  8,  9, 10, 11, 12, 13, 14, 15, 16,\n",
       "        17, 18, 19, 20, 21, 22, 23, 24]])"
      ]
     },
     "execution_count": 71,
     "metadata": {},
     "output_type": "execute_result"
    }
   ],
   "source": [
    "b.reshape(1,-1)      "
   ]
  },
  {
   "cell_type": "raw",
   "id": "82dd7e0c",
   "metadata": {},
   "source": [
    "as column form"
   ]
  },
  {
   "cell_type": "code",
   "execution_count": 72,
   "id": "8542ba2c",
   "metadata": {},
   "outputs": [
    {
     "data": {
      "text/plain": [
       "array([[ 1],\n",
       "       [ 2],\n",
       "       [ 3],\n",
       "       [ 4],\n",
       "       [ 5],\n",
       "       [ 6],\n",
       "       [ 7],\n",
       "       [ 8],\n",
       "       [ 9],\n",
       "       [10],\n",
       "       [11],\n",
       "       [12],\n",
       "       [13],\n",
       "       [14],\n",
       "       [15],\n",
       "       [16],\n",
       "       [17],\n",
       "       [18],\n",
       "       [19],\n",
       "       [20],\n",
       "       [21],\n",
       "       [22],\n",
       "       [23],\n",
       "       [24]])"
      ]
     },
     "execution_count": 72,
     "metadata": {},
     "output_type": "execute_result"
    }
   ],
   "source": [
    "b.reshape(-1,1)       "
   ]
  },
  {
   "cell_type": "raw",
   "id": "ce6a49c9",
   "metadata": {},
   "source": [
    "it change row in coloum and it transpose row in coloum"
   ]
  },
  {
   "cell_type": "code",
   "execution_count": 73,
   "id": "607e51f7",
   "metadata": {},
   "outputs": [
    {
     "data": {
      "text/plain": [
       "array([[ 1,  5,  9, 13],\n",
       "       [ 2,  6, 10, 14],\n",
       "       [ 3,  7, 11, 15],\n",
       "       [ 4,  8, 12, 16]])"
      ]
     },
     "execution_count": 73,
     "metadata": {},
     "output_type": "execute_result"
    }
   ],
   "source": [
    "a.transpose()           "
   ]
  },
  {
   "cell_type": "code",
   "execution_count": 74,
   "id": "c7eb5df8",
   "metadata": {},
   "outputs": [],
   "source": [
    "a = np.arange(1,10).reshape(3,3)"
   ]
  },
  {
   "cell_type": "code",
   "execution_count": 75,
   "id": "9960ef04",
   "metadata": {},
   "outputs": [
    {
     "data": {
      "text/plain": [
       "array([[1, 2, 3],\n",
       "       [4, 5, 6],\n",
       "       [7, 8, 9]])"
      ]
     },
     "execution_count": 75,
     "metadata": {},
     "output_type": "execute_result"
    }
   ],
   "source": [
    "a"
   ]
  },
  {
   "cell_type": "code",
   "execution_count": 76,
   "id": "89ff5b8e",
   "metadata": {},
   "outputs": [],
   "source": [
    "b = np.arange(1,10).reshape(3,3)"
   ]
  },
  {
   "cell_type": "code",
   "execution_count": 77,
   "id": "06f264fb",
   "metadata": {},
   "outputs": [
    {
     "data": {
      "text/plain": [
       "array([[1, 2, 3],\n",
       "       [4, 5, 6],\n",
       "       [7, 8, 9]])"
      ]
     },
     "execution_count": 77,
     "metadata": {},
     "output_type": "execute_result"
    }
   ],
   "source": [
    "b"
   ]
  },
  {
   "cell_type": "raw",
   "id": "ed273c91",
   "metadata": {},
   "source": [
    "we want to do the add or sub or div of a and b array then we use the fun"
   ]
  },
  {
   "cell_type": "code",
   "execution_count": 78,
   "id": "33b13f68",
   "metadata": {},
   "outputs": [
    {
     "data": {
      "text/plain": [
       "array([[ 2,  4,  6],\n",
       "       [ 8, 10, 12],\n",
       "       [14, 16, 18]])"
      ]
     },
     "execution_count": 78,
     "metadata": {},
     "output_type": "execute_result"
    }
   ],
   "source": [
    "np.add(a,b)"
   ]
  },
  {
   "cell_type": "code",
   "execution_count": 79,
   "id": "24b9ac3b",
   "metadata": {},
   "outputs": [
    {
     "data": {
      "text/plain": [
       "array([[0, 0, 0],\n",
       "       [0, 0, 0],\n",
       "       [0, 0, 0]])"
      ]
     },
     "execution_count": 79,
     "metadata": {},
     "output_type": "execute_result"
    }
   ],
   "source": [
    "np.subtract(a,b)         "
   ]
  },
  {
   "cell_type": "raw",
   "id": "86f926b3",
   "metadata": {},
   "source": [
    "output we get in float    "
   ]
  },
  {
   "cell_type": "code",
   "execution_count": 80,
   "id": "cd122d57",
   "metadata": {},
   "outputs": [
    {
     "data": {
      "text/plain": [
       "array([[1., 1., 1.],\n",
       "       [1., 1., 1.],\n",
       "       [1., 1., 1.]])"
      ]
     },
     "execution_count": 80,
     "metadata": {},
     "output_type": "execute_result"
    }
   ],
   "source": [
    "np.divide(a,b)                "
   ]
  },
  {
   "cell_type": "code",
   "execution_count": 81,
   "id": "1618cf0f",
   "metadata": {},
   "outputs": [
    {
     "data": {
      "text/plain": [
       "array([[1, 2, 3],\n",
       "       [4, 5, 6],\n",
       "       [7, 8, 9]])"
      ]
     },
     "execution_count": 81,
     "metadata": {},
     "output_type": "execute_result"
    }
   ],
   "source": [
    "a"
   ]
  },
  {
   "cell_type": "raw",
   "id": "8f29700f",
   "metadata": {},
   "source": [
    "we want to check the array in min or max"
   ]
  },
  {
   "cell_type": "code",
   "execution_count": 83,
   "id": "ad642bb5",
   "metadata": {},
   "outputs": [
    {
     "data": {
      "text/plain": [
       "1"
      ]
     },
     "execution_count": 83,
     "metadata": {},
     "output_type": "execute_result"
    }
   ],
   "source": [
    "a.min()"
   ]
  },
  {
   "cell_type": "code",
   "execution_count": 84,
   "id": "3f315d76",
   "metadata": {},
   "outputs": [
    {
     "data": {
      "text/plain": [
       "9"
      ]
     },
     "execution_count": 84,
     "metadata": {},
     "output_type": "execute_result"
    }
   ],
   "source": [
    "a.max()"
   ]
  },
  {
   "cell_type": "raw",
   "id": "a2c3a859",
   "metadata": {},
   "source": [
    "we want to creat the value in  row wise - axis = 0\n",
    "                               column wise - axis = 1"
   ]
  },
  {
   "cell_type": "code",
   "execution_count": 85,
   "id": "29cefeeb",
   "metadata": {},
   "outputs": [
    {
     "data": {
      "text/plain": [
       "array([1, 4, 7])"
      ]
     },
     "execution_count": 85,
     "metadata": {},
     "output_type": "execute_result"
    }
   ],
   "source": [
    "a.min(axis=1)"
   ]
  },
  {
   "cell_type": "code",
   "execution_count": 86,
   "id": "3d76164c",
   "metadata": {},
   "outputs": [
    {
     "data": {
      "text/plain": [
       "array([7, 8, 9])"
      ]
     },
     "execution_count": 86,
     "metadata": {},
     "output_type": "execute_result"
    }
   ],
   "source": [
    "a.max(axis = 0)"
   ]
  },
  {
   "cell_type": "raw",
   "id": "3bdc63cb",
   "metadata": {},
   "source": [
    "output get at column wise"
   ]
  },
  {
   "cell_type": "code",
   "execution_count": 87,
   "id": "d00c53fc",
   "metadata": {},
   "outputs": [
    {
     "data": {
      "text/plain": [
       "array([3, 6, 9])"
      ]
     },
     "execution_count": 87,
     "metadata": {},
     "output_type": "execute_result"
    }
   ],
   "source": [
    "a.max(axis = 1)          "
   ]
  },
  {
   "cell_type": "code",
   "execution_count": 88,
   "id": "2ae100aa",
   "metadata": {},
   "outputs": [
    {
     "data": {
      "text/plain": [
       "array([1, 2, 3])"
      ]
     },
     "execution_count": 88,
     "metadata": {},
     "output_type": "execute_result"
    }
   ],
   "source": [
    "a.min(axis = 0)"
   ]
  },
  {
   "cell_type": "raw",
   "id": "6b215a3c",
   "metadata": {},
   "source": [
    "it count all elements"
   ]
  },
  {
   "cell_type": "code",
   "execution_count": 90,
   "id": "fc3fe946",
   "metadata": {},
   "outputs": [
    {
     "data": {
      "text/plain": [
       "8"
      ]
     },
     "execution_count": 90,
     "metadata": {},
     "output_type": "execute_result"
    }
   ],
   "source": [
    "a.argmax()               "
   ]
  },
  {
   "cell_type": "code",
   "execution_count": 91,
   "id": "24e95e5c",
   "metadata": {},
   "outputs": [
    {
     "data": {
      "text/plain": [
       "0"
      ]
     },
     "execution_count": 91,
     "metadata": {},
     "output_type": "execute_result"
    }
   ],
   "source": [
    "a.argmin()  "
   ]
  },
  {
   "cell_type": "raw",
   "id": "0036ffc0",
   "metadata": {},
   "source": [
    " column wise we get the value than we get index"
   ]
  },
  {
   "cell_type": "code",
   "execution_count": 94,
   "id": "7370f7d6",
   "metadata": {},
   "outputs": [
    {
     "data": {
      "text/plain": [
       "array([2, 2, 2], dtype=int64)"
      ]
     },
     "execution_count": 94,
     "metadata": {},
     "output_type": "execute_result"
    }
   ],
   "source": [
    "a.argmax(axis = 1)        "
   ]
  },
  {
   "cell_type": "code",
   "execution_count": 95,
   "id": "8683d83c",
   "metadata": {},
   "outputs": [
    {
     "data": {
      "text/plain": [
       "array([0, 0, 0], dtype=int64)"
      ]
     },
     "execution_count": 95,
     "metadata": {},
     "output_type": "execute_result"
    }
   ],
   "source": [
    "a.argmin(axis = 1)"
   ]
  },
  {
   "cell_type": "code",
   "execution_count": 96,
   "id": "daca7aa1",
   "metadata": {},
   "outputs": [
    {
     "data": {
      "text/plain": [
       "45"
      ]
     },
     "execution_count": 96,
     "metadata": {},
     "output_type": "execute_result"
    }
   ],
   "source": [
    "np.sum(a)"
   ]
  },
  {
   "cell_type": "code",
   "execution_count": 97,
   "id": "90a9f5ee",
   "metadata": {},
   "outputs": [
    {
     "data": {
      "text/plain": [
       "array([ 6, 15, 24])"
      ]
     },
     "execution_count": 97,
     "metadata": {},
     "output_type": "execute_result"
    }
   ],
   "source": [
    "np.sum(a, axis = 1)"
   ]
  },
  {
   "cell_type": "code",
   "execution_count": 98,
   "id": "49b90d8c",
   "metadata": {},
   "outputs": [
    {
     "data": {
      "text/plain": [
       "array([12, 15, 18])"
      ]
     },
     "execution_count": 98,
     "metadata": {},
     "output_type": "execute_result"
    }
   ],
   "source": [
    "np.sum(a, axis = 0)"
   ]
  },
  {
   "cell_type": "code",
   "execution_count": 99,
   "id": "c624220a",
   "metadata": {},
   "outputs": [
    {
     "data": {
      "text/plain": [
       "array([[1, 2, 3],\n",
       "       [4, 5, 6],\n",
       "       [7, 8, 9]])"
      ]
     },
     "execution_count": 99,
     "metadata": {},
     "output_type": "execute_result"
    }
   ],
   "source": [
    "a"
   ]
  },
  {
   "cell_type": "raw",
   "id": "3291ad8b",
   "metadata": {},
   "source": [
    "we get output in diagonal form"
   ]
  },
  {
   "cell_type": "code",
   "execution_count": 102,
   "id": "b3be6b18",
   "metadata": {},
   "outputs": [
    {
     "data": {
      "text/plain": [
       "15"
      ]
     },
     "execution_count": 102,
     "metadata": {},
     "output_type": "execute_result"
    }
   ],
   "source": [
    "np.trace(a)        "
   ]
  },
  {
   "cell_type": "raw",
   "id": "ff54f2f7",
   "metadata": {},
   "source": [
    "no.of aveg divide by no.of elements and   45 div by 9   sum of all no. div no. of element"
   ]
  },
  {
   "cell_type": "code",
   "execution_count": 103,
   "id": "bfb1388e",
   "metadata": {},
   "outputs": [
    {
     "data": {
      "text/plain": [
       "5.0"
      ]
     },
     "execution_count": 103,
     "metadata": {},
     "output_type": "execute_result"
    }
   ],
   "source": [
    "np.mean(a)         "
   ]
  },
  {
   "cell_type": "raw",
   "id": "ff4e59e9",
   "metadata": {},
   "source": [
    "std()     mean find out the multiply value in than we disturbitue middle value in max value and from max value till lowest value reamanung value it mean standerd divations"
   ]
  },
  {
   "cell_type": "raw",
   "id": "31d63515",
   "metadata": {},
   "source": [
    "variance meam graph start or end till thant value we say variance"
   ]
  },
  {
   "cell_type": "code",
   "execution_count": 104,
   "id": "4fa83357",
   "metadata": {},
   "outputs": [
    {
     "data": {
      "text/plain": [
       "2.581988897471611"
      ]
     },
     "execution_count": 104,
     "metadata": {},
     "output_type": "execute_result"
    }
   ],
   "source": [
    "np.std(a)"
   ]
  },
  {
   "cell_type": "code",
   "execution_count": 105,
   "id": "7e21d6db",
   "metadata": {},
   "outputs": [
    {
     "data": {
      "text/plain": [
       "6.666666666666667"
      ]
     },
     "execution_count": 105,
     "metadata": {},
     "output_type": "execute_result"
    }
   ],
   "source": [
    "np.var(a)"
   ]
  },
  {
   "cell_type": "raw",
   "id": "286007f0",
   "metadata": {},
   "source": [
    " squre root  "
   ]
  },
  {
   "cell_type": "code",
   "execution_count": 106,
   "id": "ccf9824d",
   "metadata": {},
   "outputs": [
    {
     "data": {
      "text/plain": [
       "array([[1.        , 1.41421356, 1.73205081],\n",
       "       [2.        , 2.23606798, 2.44948974],\n",
       "       [2.64575131, 2.82842712, 3.        ]])"
      ]
     },
     "execution_count": 106,
     "metadata": {},
     "output_type": "execute_result"
    }
   ],
   "source": [
    "np.sqrt(a)               "
   ]
  },
  {
   "cell_type": "code",
   "execution_count": 107,
   "id": "bfa36728",
   "metadata": {},
   "outputs": [],
   "source": [
    "a = np.arange(1,101).reshape(10,10)"
   ]
  },
  {
   "cell_type": "code",
   "execution_count": 108,
   "id": "2f90599d",
   "metadata": {},
   "outputs": [
    {
     "data": {
      "text/plain": [
       "array([[  1,   2,   3,   4,   5,   6,   7,   8,   9,  10],\n",
       "       [ 11,  12,  13,  14,  15,  16,  17,  18,  19,  20],\n",
       "       [ 21,  22,  23,  24,  25,  26,  27,  28,  29,  30],\n",
       "       [ 31,  32,  33,  34,  35,  36,  37,  38,  39,  40],\n",
       "       [ 41,  42,  43,  44,  45,  46,  47,  48,  49,  50],\n",
       "       [ 51,  52,  53,  54,  55,  56,  57,  58,  59,  60],\n",
       "       [ 61,  62,  63,  64,  65,  66,  67,  68,  69,  70],\n",
       "       [ 71,  72,  73,  74,  75,  76,  77,  78,  79,  80],\n",
       "       [ 81,  82,  83,  84,  85,  86,  87,  88,  89,  90],\n",
       "       [ 91,  92,  93,  94,  95,  96,  97,  98,  99, 100]])"
      ]
     },
     "execution_count": 108,
     "metadata": {},
     "output_type": "execute_result"
    }
   ],
   "source": [
    "a"
   ]
  },
  {
   "cell_type": "raw",
   "id": "68cd2c9e",
   "metadata": {},
   "source": [
    "stinging s[:]we difin"
   ]
  },
  {
   "cell_type": "code",
   "execution_count": 111,
   "id": "66b34d48",
   "metadata": {},
   "outputs": [
    {
     "data": {
      "text/plain": [
       "array([31, 32, 33, 34, 35, 36, 37, 38, 39, 40])"
      ]
     },
     "execution_count": 111,
     "metadata": {},
     "output_type": "execute_result"
    }
   ],
   "source": [
    "a[3]"
   ]
  },
  {
   "cell_type": "code",
   "execution_count": 112,
   "id": "7189419f",
   "metadata": {},
   "outputs": [
    {
     "data": {
      "text/plain": [
       "array([[ 1,  2,  3,  4,  5,  6,  7,  8,  9, 10],\n",
       "       [11, 12, 13, 14, 15, 16, 17, 18, 19, 20],\n",
       "       [21, 22, 23, 24, 25, 26, 27, 28, 29, 30]])"
      ]
     },
     "execution_count": 112,
     "metadata": {},
     "output_type": "execute_result"
    }
   ],
   "source": [
    "a[:3]"
   ]
  },
  {
   "cell_type": "code",
   "execution_count": 113,
   "id": "b37b2944",
   "metadata": {},
   "outputs": [
    {
     "data": {
      "text/plain": [
       "array([[31, 32, 33, 34, 35, 36, 37, 38, 39, 40],\n",
       "       [41, 42, 43, 44, 45, 46, 47, 48, 49, 50],\n",
       "       [51, 52, 53, 54, 55, 56, 57, 58, 59, 60]])"
      ]
     },
     "execution_count": 113,
     "metadata": {},
     "output_type": "execute_result"
    }
   ],
   "source": [
    "a[3:6]"
   ]
  },
  {
   "cell_type": "raw",
   "id": "7a97faf6",
   "metadata": {},
   "source": [
    "from 3 row till 6 row after(,)sign we get column value"
   ]
  },
  {
   "cell_type": "code",
   "execution_count": 114,
   "id": "a4f317e4",
   "metadata": {},
   "outputs": [
    {
     "data": {
      "text/plain": [
       "array([34, 44, 54])"
      ]
     },
     "execution_count": 114,
     "metadata": {},
     "output_type": "execute_result"
    }
   ],
   "source": [
    "a[3:6,3]          "
   ]
  },
  {
   "cell_type": "code",
   "execution_count": 115,
   "id": "6e5eba98",
   "metadata": {},
   "outputs": [
    {
     "data": {
      "text/plain": [
       "array([[34, 35, 36, 37, 38],\n",
       "       [44, 45, 46, 47, 48],\n",
       "       [54, 55, 56, 57, 58]])"
      ]
     },
     "execution_count": 115,
     "metadata": {},
     "output_type": "execute_result"
    }
   ],
   "source": [
    "a[3:6,3:8]"
   ]
  },
  {
   "cell_type": "code",
   "execution_count": 116,
   "id": "d69c895c",
   "metadata": {},
   "outputs": [
    {
     "data": {
      "text/plain": [
       "array([[  1,   2,   3,   4,   5,   6,   7,   8,   9,  10],\n",
       "       [ 11,  12,  13,  14,  15,  16,  17,  18,  19,  20],\n",
       "       [ 21,  22,  23,  24,  25,  26,  27,  28,  29,  30],\n",
       "       [ 31,  32,  33,  34,  35,  36,  37,  38,  39,  40],\n",
       "       [ 41,  42,  43,  44,  45,  46,  47,  48,  49,  50],\n",
       "       [ 51,  52,  53,  54,  55,  56,  57,  58,  59,  60],\n",
       "       [ 61,  62,  63,  64,  65,  66,  67,  68,  69,  70],\n",
       "       [ 71,  72,  73,  74,  75,  76,  77,  78,  79,  80],\n",
       "       [ 81,  82,  83,  84,  85,  86,  87,  88,  89,  90],\n",
       "       [ 91,  92,  93,  94,  95,  96,  97,  98,  99, 100]])"
      ]
     },
     "execution_count": 116,
     "metadata": {},
     "output_type": "execute_result"
    }
   ],
   "source": [
    "a"
   ]
  },
  {
   "cell_type": "code",
   "execution_count": 117,
   "id": "ece3aa17",
   "metadata": {},
   "outputs": [
    {
     "ename": "SyntaxError",
     "evalue": "invalid syntax (279585330.py, line 1)",
     "output_type": "error",
     "traceback": [
      "\u001b[1;36m  Input \u001b[1;32mIn [117]\u001b[1;36m\u001b[0m\n\u001b[1;33m    a[:,3:10:2]          as a step it works start from 3 and end it 10 idx in 2 steps\u001b[0m\n\u001b[1;37m                         ^\u001b[0m\n\u001b[1;31mSyntaxError\u001b[0m\u001b[1;31m:\u001b[0m invalid syntax\n"
     ]
    }
   ],
   "source": [
    "a[:,3:10:2]          as a step it works start from 3 and end it 10 idx in 2 steps"
   ]
  },
  {
   "cell_type": "code",
   "execution_count": 118,
   "id": "f986dc10",
   "metadata": {},
   "outputs": [
    {
     "data": {
      "text/plain": [
       "array([[1, 2, 3],\n",
       "       [4, 5, 6],\n",
       "       [7, 8, 9]])"
      ]
     },
     "execution_count": 118,
     "metadata": {},
     "output_type": "execute_result"
    }
   ],
   "source": [
    "a = np.arange(1,10).reshape(3,3)\n",
    "a"
   ]
  },
  {
   "cell_type": "code",
   "execution_count": 119,
   "id": "f0ffd272",
   "metadata": {},
   "outputs": [
    {
     "data": {
      "text/plain": [
       "array([[1, 2, 3],\n",
       "       [4, 5, 6],\n",
       "       [7, 8, 9]])"
      ]
     },
     "execution_count": 119,
     "metadata": {},
     "output_type": "execute_result"
    }
   ],
   "source": [
    "a1 = np.arange(1,10).reshape(3,3)\n",
    "a1"
   ]
  },
  {
   "cell_type": "raw",
   "id": "d98487f3",
   "metadata": {},
   "source": [
    "multiply multiply it works like one row and one column 2 row 1 columns"
   ]
  },
  {
   "cell_type": "code",
   "execution_count": 122,
   "id": "7c3d9193",
   "metadata": {},
   "outputs": [
    {
     "data": {
      "text/plain": [
       "array([[ 30,  36,  42],\n",
       "       [ 66,  81,  96],\n",
       "       [102, 126, 150]])"
      ]
     },
     "execution_count": 122,
     "metadata": {},
     "output_type": "execute_result"
    }
   ],
   "source": [
    "np.dot(a, a1)"
   ]
  },
  {
   "cell_type": "code",
   "execution_count": 123,
   "id": "761f7229",
   "metadata": {},
   "outputs": [],
   "source": [
    "a = np.arange(1 ,17).reshape(4, 4)\n",
    "b = np.arange(17, 33).reshape(4, 4)\n"
   ]
  },
  {
   "cell_type": "code",
   "execution_count": 124,
   "id": "f16125cf",
   "metadata": {},
   "outputs": [
    {
     "data": {
      "text/plain": [
       "array([[ 1,  2,  3,  4],\n",
       "       [ 5,  6,  7,  8],\n",
       "       [ 9, 10, 11, 12],\n",
       "       [13, 14, 15, 16]])"
      ]
     },
     "execution_count": 124,
     "metadata": {},
     "output_type": "execute_result"
    }
   ],
   "source": [
    "a"
   ]
  },
  {
   "cell_type": "code",
   "execution_count": 125,
   "id": "b53d4894",
   "metadata": {},
   "outputs": [
    {
     "data": {
      "text/plain": [
       "array([[17, 18, 19, 20],\n",
       "       [21, 22, 23, 24],\n",
       "       [25, 26, 27, 28],\n",
       "       [29, 30, 31, 32]])"
      ]
     },
     "execution_count": 125,
     "metadata": {},
     "output_type": "execute_result"
    }
   ],
   "source": [
    "b"
   ]
  },
  {
   "cell_type": "raw",
   "id": "30e57ae1",
   "metadata": {},
   "source": [
    "we want to add a & b column in one set "
   ]
  },
  {
   "cell_type": "code",
   "execution_count": 128,
   "id": "977347c8",
   "metadata": {},
   "outputs": [
    {
     "data": {
      "text/plain": [
       "array([[ 1,  2,  3,  4],\n",
       "       [ 5,  6,  7,  8],\n",
       "       [ 9, 10, 11, 12],\n",
       "       [13, 14, 15, 16],\n",
       "       [17, 18, 19, 20],\n",
       "       [21, 22, 23, 24],\n",
       "       [25, 26, 27, 28],\n",
       "       [29, 30, 31, 32]])"
      ]
     },
     "execution_count": 128,
     "metadata": {},
     "output_type": "execute_result"
    }
   ],
   "source": [
    "np.concatenate((a,b))"
   ]
  },
  {
   "cell_type": "raw",
   "id": "1500767f",
   "metadata": {},
   "source": [
    "whan we arange as columewish than"
   ]
  },
  {
   "cell_type": "code",
   "execution_count": 131,
   "id": "925b3cb3",
   "metadata": {},
   "outputs": [
    {
     "data": {
      "text/plain": [
       "array([[ 1,  2,  3,  4, 17, 18, 19, 20],\n",
       "       [ 5,  6,  7,  8, 21, 22, 23, 24],\n",
       "       [ 9, 10, 11, 12, 25, 26, 27, 28],\n",
       "       [13, 14, 15, 16, 29, 30, 31, 32]])"
      ]
     },
     "execution_count": 131,
     "metadata": {},
     "output_type": "execute_result"
    }
   ],
   "source": [
    "np.concatenate((a,b), axis = 1)"
   ]
  },
  {
   "cell_type": "code",
   "execution_count": 132,
   "id": "503b93c0",
   "metadata": {},
   "outputs": [
    {
     "data": {
      "text/plain": [
       "array([[ 1,  2,  3,  4, 17, 18, 19, 20],\n",
       "       [ 5,  6,  7,  8, 21, 22, 23, 24],\n",
       "       [ 9, 10, 11, 12, 25, 26, 27, 28],\n",
       "       [13, 14, 15, 16, 29, 30, 31, 32]])"
      ]
     },
     "execution_count": 132,
     "metadata": {},
     "output_type": "execute_result"
    }
   ],
   "source": [
    "np.hstack((a,b))"
   ]
  },
  {
   "cell_type": "code",
   "execution_count": 133,
   "id": "9f9d5cf7",
   "metadata": {},
   "outputs": [
    {
     "data": {
      "text/plain": [
       "array([[ 1,  2,  3,  4],\n",
       "       [ 5,  6,  7,  8],\n",
       "       [ 9, 10, 11, 12],\n",
       "       [13, 14, 15, 16],\n",
       "       [17, 18, 19, 20],\n",
       "       [21, 22, 23, 24],\n",
       "       [25, 26, 27, 28],\n",
       "       [29, 30, 31, 32]])"
      ]
     },
     "execution_count": 133,
     "metadata": {},
     "output_type": "execute_result"
    }
   ],
   "source": [
    "np.vstack((a,b))"
   ]
  },
  {
   "cell_type": "code",
   "execution_count": 134,
   "id": "4241d4b6",
   "metadata": {},
   "outputs": [
    {
     "data": {
      "text/plain": [
       "array([[ 1,  2,  3,  4],\n",
       "       [ 5,  6,  7,  8],\n",
       "       [ 9, 10, 11, 12],\n",
       "       [13, 14, 15, 16]])"
      ]
     },
     "execution_count": 134,
     "metadata": {},
     "output_type": "execute_result"
    }
   ],
   "source": [
    "a"
   ]
  },
  {
   "cell_type": "raw",
   "id": "02b9d3f6",
   "metadata": {},
   "source": [
    "we want split than or how much we split and it split in equal"
   ]
  },
  {
   "cell_type": "code",
   "execution_count": 135,
   "id": "ee06610d",
   "metadata": {},
   "outputs": [
    {
     "data": {
      "text/plain": [
       "[array([[1, 2, 3, 4]]),\n",
       " array([[5, 6, 7, 8]]),\n",
       " array([[ 9, 10, 11, 12]]),\n",
       " array([[13, 14, 15, 16]])]"
      ]
     },
     "execution_count": 135,
     "metadata": {},
     "output_type": "execute_result"
    }
   ],
   "source": [
    "np.split(a, 4)"
   ]
  },
  {
   "cell_type": "code",
   "execution_count": 136,
   "id": "8d936c80",
   "metadata": {},
   "outputs": [
    {
     "data": {
      "text/plain": [
       "[array([[1, 2, 3, 4],\n",
       "        [5, 6, 7, 8]]),\n",
       " array([[ 9, 10, 11, 12],\n",
       "        [13, 14, 15, 16]])]"
      ]
     },
     "execution_count": 136,
     "metadata": {},
     "output_type": "execute_result"
    }
   ],
   "source": [
    "np.split(a,2)          "
   ]
  },
  {
   "cell_type": "raw",
   "id": "dfd994f4",
   "metadata": {},
   "source": [
    "we want to split in cloumn wise than"
   ]
  },
  {
   "cell_type": "code",
   "execution_count": 138,
   "id": "83f6d1aa",
   "metadata": {},
   "outputs": [
    {
     "data": {
      "text/plain": [
       "[array([[ 1,  2],\n",
       "        [ 5,  6],\n",
       "        [ 9, 10],\n",
       "        [13, 14]]),\n",
       " array([[ 3,  4],\n",
       "        [ 7,  8],\n",
       "        [11, 12],\n",
       "        [15, 16]])]"
      ]
     },
     "execution_count": 138,
     "metadata": {},
     "output_type": "execute_result"
    }
   ],
   "source": [
    "np.split(a, 2,axis = 1)"
   ]
  },
  {
   "cell_type": "code",
   "execution_count": 139,
   "id": "c4c3089c",
   "metadata": {},
   "outputs": [
    {
     "data": {
      "text/plain": [
       "[array([[ 1,  2],\n",
       "        [ 5,  6],\n",
       "        [ 9, 10],\n",
       "        [13, 14]]),\n",
       " array([[ 3,  4],\n",
       "        [ 7,  8],\n",
       "        [11, 12],\n",
       "        [15, 16]])]"
      ]
     },
     "execution_count": 139,
     "metadata": {},
     "output_type": "execute_result"
    }
   ],
   "source": [
    "s = np.split(a, 2,axis = 1)\n",
    "s"
   ]
  },
  {
   "cell_type": "code",
   "execution_count": 140,
   "id": "2fbeb9eb",
   "metadata": {},
   "outputs": [
    {
     "data": {
      "text/plain": [
       "list"
      ]
     },
     "execution_count": 140,
     "metadata": {},
     "output_type": "execute_result"
    }
   ],
   "source": [
    "type(s)"
   ]
  },
  {
   "cell_type": "raw",
   "id": "0e817914",
   "metadata": {},
   "source": [
    "it take only 0 index"
   ]
  },
  {
   "cell_type": "code",
   "execution_count": 143,
   "id": "de76e2ec",
   "metadata": {},
   "outputs": [
    {
     "data": {
      "text/plain": [
       "array([[ 1,  2],\n",
       "       [ 5,  6],\n",
       "       [ 9, 10],\n",
       "       [13, 14]])"
      ]
     },
     "execution_count": 143,
     "metadata": {},
     "output_type": "execute_result"
    }
   ],
   "source": [
    "s[0]                  "
   ]
  },
  {
   "cell_type": "code",
   "execution_count": 144,
   "id": "97fc3f0a",
   "metadata": {},
   "outputs": [
    {
     "data": {
      "text/plain": [
       "array([11, 22, 33, 44, 55, 66, 77])"
      ]
     },
     "execution_count": 144,
     "metadata": {},
     "output_type": "execute_result"
    }
   ],
   "source": [
    "a = np.array([11,22,33,44,55,66,77])\n",
    "a"
   ]
  },
  {
   "cell_type": "code",
   "execution_count": 145,
   "id": "e8894c10",
   "metadata": {},
   "outputs": [
    {
     "data": {
      "text/plain": [
       "[array([11, 22]), array([33, 44, 55, 66, 77])]"
      ]
     },
     "execution_count": 145,
     "metadata": {},
     "output_type": "execute_result"
    }
   ],
   "source": [
    "np.split(a,[2])"
   ]
  },
  {
   "cell_type": "code",
   "execution_count": 146,
   "id": "2efa2f81",
   "metadata": {},
   "outputs": [
    {
     "data": {
      "text/plain": [
       "array([ 11,  22,  33,  44,  55,  66,  77,  45,  33,  46, 333,  12])"
      ]
     },
     "execution_count": 146,
     "metadata": {},
     "output_type": "execute_result"
    }
   ],
   "source": [
    "a = np.array([11,22,33,44,55,66,77,45,33,46,333,12])\n",
    "a"
   ]
  },
  {
   "cell_type": "code",
   "execution_count": 147,
   "id": "9661aeaf",
   "metadata": {},
   "outputs": [
    {
     "data": {
      "text/plain": [
       "[array([11, 22]),\n",
       " array([ 33,  44,  55,  66,  77,  45,  33,  46, 333,  12]),\n",
       " array([], dtype=int32)]"
      ]
     },
     "execution_count": 147,
     "metadata": {},
     "output_type": "execute_result"
    }
   ],
   "source": [
    "np.split(a, [2,17])"
   ]
  },
  {
   "cell_type": "raw",
   "id": "638ced08",
   "metadata": {},
   "source": [
    "# permutation "
   ]
  },
  {
   "cell_type": "raw",
   "id": "d06bbbf7",
   "metadata": {},
   "source": [
    "random methon\n",
    "from random import *\n",
    "randint(5)-- value betweeen 0 to 5  get in int\n",
    "choice     value choice\n",
    "randrange -- we want to specific range and it get in float \n",
    "random"
   ]
  },
  {
   "cell_type": "code",
   "execution_count": 149,
   "id": "cdfb91b4",
   "metadata": {},
   "outputs": [
    {
     "data": {
      "text/plain": [
       "0.4853422425903632"
      ]
     },
     "execution_count": 149,
     "metadata": {},
     "output_type": "execute_result"
    }
   ],
   "source": [
    "np.random.random()"
   ]
  },
  {
   "cell_type": "code",
   "execution_count": 150,
   "id": "9f8d72a4",
   "metadata": {},
   "outputs": [
    {
     "data": {
      "text/plain": [
       "array([0.44071206, 0.23743663, 0.52315172, 0.64724744, 0.09907829])"
      ]
     },
     "execution_count": 150,
     "metadata": {},
     "output_type": "execute_result"
    }
   ],
   "source": [
    "np.random.random(5)"
   ]
  },
  {
   "cell_type": "code",
   "execution_count": 151,
   "id": "9335f1c7",
   "metadata": {},
   "outputs": [
    {
     "data": {
      "text/plain": [
       "array([[0.436669  , 0.93752104, 0.86487588],\n",
       "       [0.52446255, 0.63636983, 0.73583846]])"
      ]
     },
     "execution_count": 151,
     "metadata": {},
     "output_type": "execute_result"
    }
   ],
   "source": [
    "np.random.random((2,3))"
   ]
  },
  {
   "cell_type": "code",
   "execution_count": 154,
   "id": "a2564baa",
   "metadata": {},
   "outputs": [
    {
     "data": {
      "text/plain": [
       "array([[[0.27447765, 0.16578029, 0.88076264],\n",
       "        [0.1830201 , 0.40243942, 0.40859789]],\n",
       "\n",
       "       [[0.54664675, 0.61756733, 0.08386828],\n",
       "        [0.0172699 , 0.11624903, 0.49404066]]])"
      ]
     },
     "execution_count": 154,
     "metadata": {},
     "output_type": "execute_result"
    }
   ],
   "source": [
    "np.random.random((2,2,3))    "
   ]
  },
  {
   "cell_type": "code",
   "execution_count": 155,
   "id": "de30ed7a",
   "metadata": {},
   "outputs": [
    {
     "data": {
      "text/plain": [
       "array([[12, 13, 11, 11],\n",
       "       [14, 14,  6,  6]])"
      ]
     },
     "execution_count": 155,
     "metadata": {},
     "output_type": "execute_result"
    }
   ],
   "source": [
    "np.random.randint(15, size =(2,4))"
   ]
  },
  {
   "cell_type": "code",
   "execution_count": 156,
   "id": "f36d6f35",
   "metadata": {},
   "outputs": [
    {
     "data": {
      "text/plain": [
       "array([[[31, 21, 15, 30],\n",
       "        [24, 15, 41, 39]],\n",
       "\n",
       "       [[41, 19, 44, 34],\n",
       "        [20, 29, 40, 34]],\n",
       "\n",
       "       [[25, 38, 41, 43],\n",
       "        [28, 21, 24, 29]]])"
      ]
     },
     "execution_count": 156,
     "metadata": {},
     "output_type": "execute_result"
    }
   ],
   "source": [
    "np.random.randint(15, 45, size =(3,2,4))"
   ]
  },
  {
   "cell_type": "code",
   "execution_count": 157,
   "id": "f73df3fe",
   "metadata": {},
   "outputs": [
    {
     "data": {
      "text/plain": [
       "array([1, 2, 3, 4, 5, 6, 7, 8, 9])"
      ]
     },
     "execution_count": 157,
     "metadata": {},
     "output_type": "execute_result"
    }
   ],
   "source": [
    "a = np.arange(1,10)\n",
    "a"
   ]
  },
  {
   "cell_type": "code",
   "execution_count": 158,
   "id": "350c7052",
   "metadata": {},
   "outputs": [
    {
     "data": {
      "text/plain": [
       "4"
      ]
     },
     "execution_count": 158,
     "metadata": {},
     "output_type": "execute_result"
    }
   ],
   "source": [
    "np.random.choice(a)           "
   ]
  },
  {
   "cell_type": "code",
   "execution_count": 159,
   "id": "2880a8fb",
   "metadata": {},
   "outputs": [
    {
     "data": {
      "text/plain": [
       "array([4, 3, 6, 5, 7, 8, 2, 1, 9])"
      ]
     },
     "execution_count": 159,
     "metadata": {},
     "output_type": "execute_result"
    }
   ],
   "source": [
    "np.random.permutation(a)"
   ]
  },
  {
   "cell_type": "code",
   "execution_count": 160,
   "id": "04fe8683",
   "metadata": {},
   "outputs": [
    {
     "data": {
      "text/plain": [
       "1"
      ]
     },
     "execution_count": 160,
     "metadata": {},
     "output_type": "execute_result"
    }
   ],
   "source": [
    "np.random.choice(a)"
   ]
  },
  {
   "cell_type": "code",
   "execution_count": 161,
   "id": "969c518e",
   "metadata": {},
   "outputs": [
    {
     "data": {
      "text/plain": [
       "8"
      ]
     },
     "execution_count": 161,
     "metadata": {},
     "output_type": "execute_result"
    }
   ],
   "source": [
    "np.random.permutation(a)\n",
    "np.random.choice(a)"
   ]
  },
  {
   "cell_type": "code",
   "execution_count": 162,
   "id": "c297b6ab",
   "metadata": {},
   "outputs": [
    {
     "data": {
      "text/plain": [
       "array([38.82072521, 11.24012615, 70.32737244, 23.38277889, 38.4459392 ,\n",
       "       28.25092086, 21.87529036, 87.55464709,  4.02276364, 87.47032067,\n",
       "       56.77149978, 92.5688035 , 14.44217751, 65.22666307, 10.8900756 ,\n",
       "       13.06974297, 81.84260049, 34.83333375, 90.93399456, 19.60980445,\n",
       "       66.94311657, 18.65260075, 29.56390009, 20.47582573, 29.11730259,\n",
       "       54.72029986, 40.18172014, 55.87956713, 42.28249878, 36.90665217,\n",
       "       70.5626484 , 12.38190235, 41.56655213, 79.24371029, 69.00287799,\n",
       "       45.36587854, 49.44984659, 93.41046939, 72.52546694, 62.77595876,\n",
       "       97.85625092, 84.72052455, 54.22528935, 67.37184529, 44.02871964,\n",
       "       99.36231134, 17.30899328,  4.07123986, 86.78218362, 14.38374614,\n",
       "       48.33814367, 66.13444013, 30.2675748 , 21.52713902, 82.52097322,\n",
       "       32.52504549, 90.40314783, 39.42966071, 20.19918974, 59.8166571 ,\n",
       "       92.54800936, 46.6808707 , 43.6191783 , 78.44345574, 23.64704035,\n",
       "       14.02438488, 39.56211173, 95.32524159, 46.80877829, 99.55633027,\n",
       "       98.91161952, 98.65044613, 76.4006046 ,  7.04739747, 58.58730244,\n",
       "       54.94366819, 24.05118696, 46.34103857, 84.81075811, 83.53935961,\n",
       "        2.92271842, 67.05264726, 58.57622472, 22.68296598, 93.37075246,\n",
       "       94.62117187, 57.28991829, 99.52083962, 11.5092733 , 62.10002023,\n",
       "        6.58719773, 67.8610015 , 35.71688199, 47.98160798, 90.79290348,\n",
       "       59.58790298, 37.99141093, 34.37906429, 81.12144502, 41.60868365,\n",
       "       40.4799422 , 61.52605994, 27.24736593, 26.3603557 ,  9.37980704,\n",
       "       91.1082201 , 12.09272614, 63.89489885, 15.75949307, 70.19455423,\n",
       "       75.27422374, 14.4051512 , 22.78245406, 77.59483001, 86.65329711,\n",
       "       31.93984485, 69.52302109, 96.82991245, 24.57974762, 47.66786672,\n",
       "       32.32407456, 71.50932495, 77.56366357, 21.87952025, 55.99483586,\n",
       "       72.1964459 , 97.84882328, 43.68622331, 54.34302824, 71.24158848,\n",
       "       22.27788293, 13.72949272, 12.59417738, 95.37787753, 96.06939441,\n",
       "       94.39477959, 41.51707307, 83.98010173, 61.07088463, 69.15911896,\n",
       "       58.14180189, 94.99813099, 15.20728411, 12.0382702 , 30.84925319,\n",
       "       66.7723375 , 23.61423188, 63.93124101, 88.44901634, 26.84580849,\n",
       "        1.30448232, 81.18886118, 88.11474046, 84.89609378, 41.17366158,\n",
       "       78.09624268, 53.08404025, 36.18270473, 35.79177879, 60.19955665,\n",
       "       44.16085665,  7.96969031, 67.31886826, 63.09197795, 81.74534616,\n",
       "       56.55215392, 95.25663082,  4.3961712 , 88.98787435, 65.49331536,\n",
       "       14.04222502, 16.67692299, 43.95156689, 56.33789138, 90.36697084,\n",
       "       79.52968408, 30.19340831, 60.42713511, 80.79958253, 73.78219637,\n",
       "       11.45256513, 44.36325786, 55.04477389, 66.53847379, 76.08043136,\n",
       "       44.5884608 , 91.52454277, 99.07692495, 92.71087173, 11.02617365,\n",
       "       15.77483667, 18.50913234, 95.32720144, 22.89325938, 50.69391253,\n",
       "       32.94437737, 31.28618224, 91.45303293, 37.41972685, 11.25357079,\n",
       "       65.62831557, 85.97447543, 16.34926576, 16.05876897, 97.39291326,\n",
       "       64.20917375, 71.40708562, 26.39629801,  1.31792231, 54.37498248,\n",
       "       58.03950866, 28.90229281, 79.83056872, 10.59365785, 54.98451212,\n",
       "       75.13778292, 86.28792942, 90.75639468, 62.26180955, 38.50982126,\n",
       "       61.10552231, 16.52295386, 19.44823242, 49.99614128, 76.62397568,\n",
       "       64.11597034, 94.40238344, 95.71190557, 35.11229204, 95.38041907,\n",
       "       45.84782169, 11.98104353, 59.80382965, 19.88215799, 83.53629034,\n",
       "       10.85376053, 77.52167023,  1.39075106, 56.7159381 , 72.41745455,\n",
       "       97.49855008, 64.06321554, 19.83094164, 46.76007769, 26.1307966 ,\n",
       "       25.50875924, 12.01986995, 81.04297526, 62.85038801, 87.42931429])"
      ]
     },
     "execution_count": 162,
     "metadata": {},
     "output_type": "execute_result"
    }
   ],
   "source": [
    "np.random.uniform(1,100,250)"
   ]
  },
  {
   "cell_type": "raw",
   "id": "8d578693",
   "metadata": {},
   "source": [
    "- mean\n",
    "- std\n",
    "-simple\n",
    "np.random.normal"
   ]
  },
  {
   "cell_type": "code",
   "execution_count": 165,
   "id": "85c7b371",
   "metadata": {},
   "outputs": [
    {
     "data": {
      "text/plain": [
       "array([23.50628891, 20.62398513, 22.54368139, 11.67784447, 18.22892841,\n",
       "       22.13203904, 23.82217759, 17.67507446, 19.8492804 , 14.77050734,\n",
       "       16.17078442, 22.69492952, 26.15746568, 16.4629216 , 24.42888129,\n",
       "       14.72835302, 16.93040739, 16.827104  , 23.88570944, 12.26980105,\n",
       "       13.27520068, 20.8612834 , 24.60033526, 21.14657249, 10.4109804 ,\n",
       "       18.75874501, 13.06297867, 15.75657913, 18.17423618, 21.23602364,\n",
       "       21.96558738, 14.7895423 , 18.58763844, 20.23689171, 26.70092716,\n",
       "       20.81865168, 24.99086985, 23.44166644, 17.66293602, 15.93644047,\n",
       "       20.02724649, 21.91525331, 19.72053413, 19.8162541 , 16.37675564,\n",
       "       19.84832173, 23.71774339, 26.05761451, 29.18290331, 19.0898037 ,\n",
       "       21.28686488, 13.82078548, 25.2921288 , 18.5238891 , 18.04220972,\n",
       "       22.39264144, 15.83995492, 23.32133343, 19.89006711, 16.01068084,\n",
       "       23.63133636, 16.23904073, 14.05645726, 22.36166244, 29.36107205,\n",
       "       24.67968656, 17.00717713, 24.66722829, 21.04918263, 24.46466496,\n",
       "       19.07875043, 19.60110207, 22.54034455, 14.9971713 , 20.30449032,\n",
       "       19.54886234, 27.45937909,  6.99635339, 18.17359157,  9.15961482,\n",
       "       17.37587734, 22.42394232, 19.34157095, 16.21327822, 23.98500415,\n",
       "       29.55737657, 21.16643104, 14.96262064, 13.33832308, 13.5576791 ,\n",
       "       17.9113036 , 29.48971943, 28.28667831, 22.02461976, 24.93533217,\n",
       "       20.84473035, 18.45461563, 25.02267714, 22.54610047, 20.46481588])"
      ]
     },
     "execution_count": 165,
     "metadata": {},
     "output_type": "execute_result"
    }
   ],
   "source": [
    "np.random.normal(20, 5, 100)"
   ]
  },
  {
   "cell_type": "code",
   "execution_count": 166,
   "id": "610d3bb8",
   "metadata": {},
   "outputs": [],
   "source": [
    "s = \"python\"\n",
    "s1 = \"data science\""
   ]
  },
  {
   "cell_type": "code",
   "execution_count": 167,
   "id": "85ab1a68",
   "metadata": {},
   "outputs": [
    {
     "data": {
      "text/plain": [
       "array('pythondata science', dtype='<U18')"
      ]
     },
     "execution_count": 167,
     "metadata": {},
     "output_type": "execute_result"
    }
   ],
   "source": [
    "np.char.add(s,s1)"
   ]
  },
  {
   "cell_type": "code",
   "execution_count": 168,
   "id": "5093be4b",
   "metadata": {},
   "outputs": [
    {
     "data": {
      "text/plain": [
       "array('PYTHON', dtype='<U6')"
      ]
     },
     "execution_count": 168,
     "metadata": {},
     "output_type": "execute_result"
    }
   ],
   "source": [
    "np.char.upper(s)"
   ]
  },
  {
   "cell_type": "code",
   "execution_count": 169,
   "id": "1d828265",
   "metadata": {},
   "outputs": [
    {
     "data": {
      "text/plain": [
       "array('python', dtype='<U6')"
      ]
     },
     "execution_count": 169,
     "metadata": {},
     "output_type": "execute_result"
    }
   ],
   "source": [
    "np.char.lower(s)"
   ]
  },
  {
   "cell_type": "code",
   "execution_count": 170,
   "id": "18d41c03",
   "metadata": {},
   "outputs": [
    {
     "data": {
      "text/plain": [
       "array('       python       ', dtype='<U20')"
      ]
     },
     "execution_count": 170,
     "metadata": {},
     "output_type": "execute_result"
    }
   ],
   "source": [
    "np.char.center(s,20, \" \")"
   ]
  },
  {
   "cell_type": "code",
   "execution_count": 171,
   "id": "cfb61073",
   "metadata": {},
   "outputs": [
    {
     "data": {
      "text/plain": [
       "array('*******python*******', dtype='<U20')"
      ]
     },
     "execution_count": 171,
     "metadata": {},
     "output_type": "execute_result"
    }
   ],
   "source": [
    "np.char.center(s,20, \"*\")"
   ]
  },
  {
   "cell_type": "code",
   "execution_count": 172,
   "id": "58a30d08",
   "metadata": {},
   "outputs": [
    {
     "data": {
      "text/plain": [
       "array(list(['data', 'science']), dtype=object)"
      ]
     },
     "execution_count": 172,
     "metadata": {},
     "output_type": "execute_result"
    }
   ],
   "source": [
    "np.char.split(s1)"
   ]
  },
  {
   "cell_type": "code",
   "execution_count": null,
   "id": "c4af40d7",
   "metadata": {},
   "outputs": [],
   "source": []
  }
 ],
 "metadata": {
  "kernelspec": {
   "display_name": "Python 3 (ipykernel)",
   "language": "python",
   "name": "python3"
  },
  "language_info": {
   "codemirror_mode": {
    "name": "ipython",
    "version": 3
   },
   "file_extension": ".py",
   "mimetype": "text/x-python",
   "name": "python",
   "nbconvert_exporter": "python",
   "pygments_lexer": "ipython3",
   "version": "3.9.12"
  }
 },
 "nbformat": 4,
 "nbformat_minor": 5
}
